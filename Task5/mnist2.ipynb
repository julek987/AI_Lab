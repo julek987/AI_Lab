{
 "cells": [
  {
   "cell_type": "code",
   "id": "initial_id",
   "metadata": {
    "collapsed": true,
    "ExecuteTime": {
     "end_time": "2025-02-13T16:55:04.239983Z",
     "start_time": "2025-02-13T16:55:00.600625Z"
    }
   },
   "source": [
    "import numpy as np\n",
    "import matplotlib.pyplot as plt\n",
    "from keras.datasets import mnist\n",
    "from keras.src.utils import to_categorical\n",
    "from keras.src.models import Sequential\n",
    "from keras.src.layers import Dense, Input"
   ],
   "outputs": [
    {
     "name": "stderr",
     "output_type": "stream",
     "text": [
      "/Users/julek/PycharmProjects/AILabs/.venv/lib/python3.9/site-packages/urllib3/__init__.py:35: NotOpenSSLWarning: urllib3 v2 only supports OpenSSL 1.1.1+, currently the 'ssl' module is compiled with 'LibreSSL 2.8.3'. See: https://github.com/urllib3/urllib3/issues/3020\n",
      "  warnings.warn(\n"
     ]
    }
   ],
   "execution_count": 1
  },
  {
   "metadata": {
    "ExecuteTime": {
     "end_time": "2025-02-13T16:55:04.320724Z",
     "start_time": "2025-02-13T16:55:04.250404Z"
    }
   },
   "cell_type": "code",
   "source": [
    "# Load MNIST data\n",
    "(train_images, train_labels), (test_images, test_labels) = mnist.load_data()"
   ],
   "id": "1f56a8f280769295",
   "outputs": [],
   "execution_count": 2
  },
  {
   "metadata": {
    "ExecuteTime": {
     "end_time": "2025-02-13T16:55:04.491655Z",
     "start_time": "2025-02-13T16:55:04.391905Z"
    }
   },
   "cell_type": "code",
   "source": [
    "# Normalize images to [0, 1]\n",
    "train_images = train_images.astype('float32') / 255.0\n",
    "test_images = test_images.astype('float32') / 255.0"
   ],
   "id": "c84744e5c69d198f",
   "outputs": [],
   "execution_count": 3
  },
  {
   "metadata": {
    "ExecuteTime": {
     "end_time": "2025-02-13T16:55:04.501379Z",
     "start_time": "2025-02-13T16:55:04.499267Z"
    }
   },
   "cell_type": "code",
   "source": [
    "# Get image dimensions\n",
    "img_rows, img_cols = train_images.shape[1], train_images.shape[2]\n",
    "num_train = train_images.shape[0]\n",
    "num_test = test_images.shape[0]"
   ],
   "id": "44f580d4dc43f77a",
   "outputs": [],
   "execution_count": 4
  },
  {
   "metadata": {
    "ExecuteTime": {
     "end_time": "2025-02-13T16:55:04.510416Z",
     "start_time": "2025-02-13T16:55:04.508415Z"
    }
   },
   "cell_type": "code",
   "source": [
    "# Flatten images (each image becomes a 784-dimensional vector)\n",
    "train_images_flat = train_images.reshape(num_train, img_rows * img_cols)\n",
    "test_images_flat = test_images.reshape(num_test, img_rows * img_cols)"
   ],
   "id": "81972dc6dbb0178c",
   "outputs": [],
   "execution_count": 5
  },
  {
   "metadata": {
    "ExecuteTime": {
     "end_time": "2025-02-13T16:55:04.520684Z",
     "start_time": "2025-02-13T16:55:04.517464Z"
    }
   },
   "cell_type": "code",
   "source": [
    "# One-hot encode labels for classification\n",
    "train_labels_cat = to_categorical(train_labels, 10)\n",
    "test_labels_cat = to_categorical(test_labels, 10)"
   ],
   "id": "cf22f0cabb3fffd1",
   "outputs": [],
   "execution_count": 6
  },
  {
   "metadata": {
    "ExecuteTime": {
     "end_time": "2025-02-13T16:55:04.572500Z",
     "start_time": "2025-02-13T16:55:04.527103Z"
    }
   },
   "cell_type": "code",
   "source": [
    "classifier = Sequential([\n",
    "    Input(shape=(img_rows * img_cols,)),\n",
    "    Dense(128, activation='relu'),\n",
    "    Dense(10, activation='softmax')\n",
    "])\n",
    "\n",
    "classifier.compile(optimizer='adam',\n",
    "                   loss='categorical_crossentropy',\n",
    "                   metrics=['accuracy'])"
   ],
   "id": "8270c83627753409",
   "outputs": [],
   "execution_count": 7
  },
  {
   "metadata": {
    "ExecuteTime": {
     "end_time": "2025-02-13T16:55:13.311073Z",
     "start_time": "2025-02-13T16:55:04.579070Z"
    }
   },
   "cell_type": "code",
   "source": [
    "# Train classifier\n",
    "classifier.fit(train_images_flat, train_labels_cat, epochs=6, batch_size=32, verbose=1)"
   ],
   "id": "6b5c903d1c129fd1",
   "outputs": [
    {
     "name": "stdout",
     "output_type": "stream",
     "text": [
      "Epoch 1/6\n",
      "\u001B[1m1875/1875\u001B[0m \u001B[32m━━━━━━━━━━━━━━━━━━━━\u001B[0m\u001B[37m\u001B[0m \u001B[1m2s\u001B[0m 863us/step - accuracy: 0.8771 - loss: 0.4343\n",
      "Epoch 2/6\n",
      "\u001B[1m1875/1875\u001B[0m \u001B[32m━━━━━━━━━━━━━━━━━━━━\u001B[0m\u001B[37m\u001B[0m \u001B[1m1s\u001B[0m 752us/step - accuracy: 0.9627 - loss: 0.1250\n",
      "Epoch 3/6\n",
      "\u001B[1m1875/1875\u001B[0m \u001B[32m━━━━━━━━━━━━━━━━━━━━\u001B[0m\u001B[37m\u001B[0m \u001B[1m1s\u001B[0m 709us/step - accuracy: 0.9754 - loss: 0.0806\n",
      "Epoch 4/6\n",
      "\u001B[1m1875/1875\u001B[0m \u001B[32m━━━━━━━━━━━━━━━━━━━━\u001B[0m\u001B[37m\u001B[0m \u001B[1m1s\u001B[0m 721us/step - accuracy: 0.9798 - loss: 0.0648\n",
      "Epoch 5/6\n",
      "\u001B[1m1875/1875\u001B[0m \u001B[32m━━━━━━━━━━━━━━━━━━━━\u001B[0m\u001B[37m\u001B[0m \u001B[1m1s\u001B[0m 709us/step - accuracy: 0.9856 - loss: 0.0472\n",
      "Epoch 6/6\n",
      "\u001B[1m1875/1875\u001B[0m \u001B[32m━━━━━━━━━━━━━━━━━━━━\u001B[0m\u001B[37m\u001B[0m \u001B[1m1s\u001B[0m 716us/step - accuracy: 0.9894 - loss: 0.0349\n"
     ]
    },
    {
     "data": {
      "text/plain": [
       "<keras.src.callbacks.history.History at 0x154313ca0>"
      ]
     },
     "execution_count": 8,
     "metadata": {},
     "output_type": "execute_result"
    }
   ],
   "execution_count": 8
  },
  {
   "metadata": {
    "ExecuteTime": {
     "end_time": "2025-02-13T16:55:13.570168Z",
     "start_time": "2025-02-13T16:55:13.374695Z"
    }
   },
   "cell_type": "code",
   "source": [
    "# Evaluate classifier on test set\n",
    "test_loss, test_acc = classifier.evaluate(test_images_flat, test_labels_cat, verbose=0)\n",
    "print(\"Classifier Test Accuracy: {:.2f}%\".format(test_acc * 100))"
   ],
   "id": "d6c7c367df9fc8ec",
   "outputs": [
    {
     "name": "stdout",
     "output_type": "stream",
     "text": [
      "Classifier Test Accuracy: 97.79%\n"
     ]
    }
   ],
   "execution_count": 9
  },
  {
   "metadata": {
    "ExecuteTime": {
     "end_time": "2025-02-13T16:55:13.675108Z",
     "start_time": "2025-02-13T16:55:13.636126Z"
    }
   },
   "cell_type": "code",
   "source": [
    "# Get predictions for first 25 test samples\n",
    "predictions = classifier.predict(test_images_flat[:25])\n",
    "predicted_labels = np.argmax(predictions, axis=1)\n",
    "print(\"Predicted labels for first 25 test samples:\", predicted_labels)\n",
    "print(\"True labels for first 25 test samples:     \", test_labels[:25])"
   ],
   "id": "fc72522108d4db7",
   "outputs": [
    {
     "name": "stdout",
     "output_type": "stream",
     "text": [
      "\u001B[1m1/1\u001B[0m \u001B[32m━━━━━━━━━━━━━━━━━━━━\u001B[0m\u001B[37m\u001B[0m \u001B[1m0s\u001B[0m 20ms/step\n",
      "Predicted labels for first 25 test samples: [7 2 1 0 4 1 4 9 5 9 0 6 9 0 1 5 9 7 3 4 9 6 6 5 4]\n",
      "True labels for first 25 test samples:      [7 2 1 0 4 1 4 9 5 9 0 6 9 0 1 5 9 7 3 4 9 6 6 5 4]\n"
     ]
    }
   ],
   "execution_count": 10
  },
  {
   "metadata": {
    "ExecuteTime": {
     "end_time": "2025-02-13T16:55:35.599857Z",
     "start_time": "2025-02-13T16:55:13.683891Z"
    }
   },
   "cell_type": "code",
   "source": [
    "autoencoder = Sequential([\n",
    "    Input(shape=(img_rows * img_cols,)),\n",
    "    Dense(128, activation='relu'),\n",
    "    Dense(64, activation='relu'),  # Bottleneck layer (latent representation)\n",
    "    Dense(128, activation='relu'),\n",
    "    Dense(img_rows * img_cols, activation='sigmoid')\n",
    "])\n",
    "\n",
    "autoencoder.compile(optimizer='adam', loss='binary_crossentropy')\n",
    "\n",
    "# Train autoencoder (input equals target)\n",
    "autoencoder.fit(train_images_flat, train_images_flat,\n",
    "                epochs=20,\n",
    "                batch_size=256,\n",
    "                shuffle=True,\n",
    "                validation_data=(test_images_flat, test_images_flat),\n",
    "                verbose=1)"
   ],
   "id": "f924e3c4fd37e054",
   "outputs": [
    {
     "name": "stdout",
     "output_type": "stream",
     "text": [
      "Epoch 1/20\n",
      "\u001B[1m235/235\u001B[0m \u001B[32m━━━━━━━━━━━━━━━━━━━━\u001B[0m\u001B[37m\u001B[0m \u001B[1m1s\u001B[0m 4ms/step - loss: 0.3217 - val_loss: 0.1438\n",
      "Epoch 2/20\n",
      "\u001B[1m235/235\u001B[0m \u001B[32m━━━━━━━━━━━━━━━━━━━━\u001B[0m\u001B[37m\u001B[0m \u001B[1m1s\u001B[0m 4ms/step - loss: 0.1346 - val_loss: 0.1137\n",
      "Epoch 3/20\n",
      "\u001B[1m235/235\u001B[0m \u001B[32m━━━━━━━━━━━━━━━━━━━━\u001B[0m\u001B[37m\u001B[0m \u001B[1m1s\u001B[0m 4ms/step - loss: 0.1122 - val_loss: 0.1029\n",
      "Epoch 4/20\n",
      "\u001B[1m235/235\u001B[0m \u001B[32m━━━━━━━━━━━━━━━━━━━━\u001B[0m\u001B[37m\u001B[0m \u001B[1m1s\u001B[0m 4ms/step - loss: 0.1027 - val_loss: 0.0965\n",
      "Epoch 5/20\n",
      "\u001B[1m235/235\u001B[0m \u001B[32m━━━━━━━━━━━━━━━━━━━━\u001B[0m\u001B[37m\u001B[0m \u001B[1m1s\u001B[0m 4ms/step - loss: 0.0969 - val_loss: 0.0927\n",
      "Epoch 6/20\n",
      "\u001B[1m235/235\u001B[0m \u001B[32m━━━━━━━━━━━━━━━━━━━━\u001B[0m\u001B[37m\u001B[0m \u001B[1m1s\u001B[0m 4ms/step - loss: 0.0933 - val_loss: 0.0901\n",
      "Epoch 7/20\n",
      "\u001B[1m235/235\u001B[0m \u001B[32m━━━━━━━━━━━━━━━━━━━━\u001B[0m\u001B[37m\u001B[0m \u001B[1m1s\u001B[0m 4ms/step - loss: 0.0908 - val_loss: 0.0880\n",
      "Epoch 8/20\n",
      "\u001B[1m235/235\u001B[0m \u001B[32m━━━━━━━━━━━━━━━━━━━━\u001B[0m\u001B[37m\u001B[0m \u001B[1m1s\u001B[0m 5ms/step - loss: 0.0888 - val_loss: 0.0867\n",
      "Epoch 9/20\n",
      "\u001B[1m235/235\u001B[0m \u001B[32m━━━━━━━━━━━━━━━━━━━━\u001B[0m\u001B[37m\u001B[0m \u001B[1m1s\u001B[0m 5ms/step - loss: 0.0874 - val_loss: 0.0857\n",
      "Epoch 10/20\n",
      "\u001B[1m235/235\u001B[0m \u001B[32m━━━━━━━━━━━━━━━━━━━━\u001B[0m\u001B[37m\u001B[0m \u001B[1m1s\u001B[0m 5ms/step - loss: 0.0862 - val_loss: 0.0843\n",
      "Epoch 11/20\n",
      "\u001B[1m235/235\u001B[0m \u001B[32m━━━━━━━━━━━━━━━━━━━━\u001B[0m\u001B[37m\u001B[0m \u001B[1m1s\u001B[0m 5ms/step - loss: 0.0852 - val_loss: 0.0834\n",
      "Epoch 12/20\n",
      "\u001B[1m235/235\u001B[0m \u001B[32m━━━━━━━━━━━━━━━━━━━━\u001B[0m\u001B[37m\u001B[0m \u001B[1m1s\u001B[0m 5ms/step - loss: 0.0842 - val_loss: 0.0826\n",
      "Epoch 13/20\n",
      "\u001B[1m235/235\u001B[0m \u001B[32m━━━━━━━━━━━━━━━━━━━━\u001B[0m\u001B[37m\u001B[0m \u001B[1m1s\u001B[0m 5ms/step - loss: 0.0833 - val_loss: 0.0818\n",
      "Epoch 14/20\n",
      "\u001B[1m235/235\u001B[0m \u001B[32m━━━━━━━━━━━━━━━━━━━━\u001B[0m\u001B[37m\u001B[0m \u001B[1m1s\u001B[0m 5ms/step - loss: 0.0824 - val_loss: 0.0811\n",
      "Epoch 15/20\n",
      "\u001B[1m235/235\u001B[0m \u001B[32m━━━━━━━━━━━━━━━━━━━━\u001B[0m\u001B[37m\u001B[0m \u001B[1m1s\u001B[0m 5ms/step - loss: 0.0817 - val_loss: 0.0804\n",
      "Epoch 16/20\n",
      "\u001B[1m235/235\u001B[0m \u001B[32m━━━━━━━━━━━━━━━━━━━━\u001B[0m\u001B[37m\u001B[0m \u001B[1m1s\u001B[0m 5ms/step - loss: 0.0809 - val_loss: 0.0797\n",
      "Epoch 17/20\n",
      "\u001B[1m235/235\u001B[0m \u001B[32m━━━━━━━━━━━━━━━━━━━━\u001B[0m\u001B[37m\u001B[0m \u001B[1m1s\u001B[0m 4ms/step - loss: 0.0804 - val_loss: 0.0797\n",
      "Epoch 18/20\n",
      "\u001B[1m235/235\u001B[0m \u001B[32m━━━━━━━━━━━━━━━━━━━━\u001B[0m\u001B[37m\u001B[0m \u001B[1m1s\u001B[0m 5ms/step - loss: 0.0799 - val_loss: 0.0789\n",
      "Epoch 19/20\n",
      "\u001B[1m235/235\u001B[0m \u001B[32m━━━━━━━━━━━━━━━━━━━━\u001B[0m\u001B[37m\u001B[0m \u001B[1m1s\u001B[0m 5ms/step - loss: 0.0792 - val_loss: 0.0782\n",
      "Epoch 20/20\n",
      "\u001B[1m235/235\u001B[0m \u001B[32m━━━━━━━━━━━━━━━━━━━━\u001B[0m\u001B[37m\u001B[0m \u001B[1m1s\u001B[0m 5ms/step - loss: 0.0788 - val_loss: 0.0782\n"
     ]
    },
    {
     "data": {
      "text/plain": [
       "<keras.src.callbacks.history.History at 0x157217b50>"
      ]
     },
     "execution_count": 11,
     "metadata": {},
     "output_type": "execute_result"
    }
   ],
   "execution_count": 11
  },
  {
   "metadata": {
    "ExecuteTime": {
     "end_time": "2025-02-13T16:55:36.042548Z",
     "start_time": "2025-02-13T16:55:35.671947Z"
    }
   },
   "cell_type": "code",
   "source": [
    "# Use the autoencoder to reconstruct test images\n",
    "reconstructed = autoencoder.predict(test_images_flat)\n",
    "\n",
    "# Use the classifier to predict labels on reconstructed images\n",
    "reconstructed_pred = classifier.predict(reconstructed)\n",
    "reconstructed_labels = np.argmax(reconstructed_pred, axis=1)"
   ],
   "id": "6d8d9df89f3cb39f",
   "outputs": [
    {
     "name": "stdout",
     "output_type": "stream",
     "text": [
      "\u001B[1m313/313\u001B[0m \u001B[32m━━━━━━━━━━━━━━━━━━━━\u001B[0m\u001B[37m\u001B[0m \u001B[1m0s\u001B[0m 452us/step\n",
      "\u001B[1m313/313\u001B[0m \u001B[32m━━━━━━━━━━━━━━━━━━━━\u001B[0m\u001B[37m\u001B[0m \u001B[1m0s\u001B[0m 290us/step\n"
     ]
    }
   ],
   "execution_count": 12
  },
  {
   "metadata": {
    "ExecuteTime": {
     "end_time": "2025-02-13T16:56:22.038706Z",
     "start_time": "2025-02-13T16:56:21.370499Z"
    }
   },
   "cell_type": "code",
   "source": [
    "n = 10  # number of samples to display\n",
    "plt.figure(figsize=(20, 6))\n",
    "for i in range(n):\n",
    "    # Original image with true label\n",
    "    ax = plt.subplot(3, n, i + 1)\n",
    "    plt.imshow(test_images[i], cmap='gray')\n",
    "    plt.title(\"Original: {}\".format(test_labels[i]))\n",
    "    plt.axis('off')\n",
    "\n",
    "    # Reconstructed image\n",
    "    ax = plt.subplot(3, n, i + 1 + n)\n",
    "    reconstructed_image = reconstructed[i].reshape(img_rows, img_cols)\n",
    "    plt.imshow(reconstructed_image, cmap='gray')\n",
    "    plt.title(\"Reconstructed\")\n",
    "    plt.axis('off')\n",
    "\n",
    "    # Reconstructed image with classifier prediction\n",
    "    ax = plt.subplot(3, n, i + 1 + 2 * n)\n",
    "    plt.imshow(reconstructed_image, cmap='gray')\n",
    "    plt.title(\"Pred: {}\".format(reconstructed_labels[i]))\n",
    "    plt.axis('off')\n",
    "\n",
    "plt.tight_layout()\n",
    "plt.show()"
   ],
   "id": "5760c7a66b84e160",
   "outputs": [
    {
     "data": {
      "text/plain": [
       "<Figure size 2000x600 with 30 Axes>"
      ],
      "image/png": "[encoded data removed]"
     },
     "metadata": {},
     "output_type": "display_data"
    }
   ],
   "execution_count": 14
  }
 ],
 "metadata": {
  "kernelspec": {
   "display_name": "Python 3",
   "language": "python",
   "name": "python3"
  },
  "language_info": {
   "codemirror_mode": {
    "name": "ipython",
    "version": 2
   },
   "file_extension": ".py",
   "mimetype": "text/x-python",
   "name": "python",
   "nbconvert_exporter": "python",
   "pygments_lexer": "ipython2",
   "version": "2.7.6"
  }
 },
 "nbformat": 4,
 "nbformat_minor": 5
}
