{
 "cells": [
  {
   "cell_type": "code",
   "id": "initial_id",
   "metadata": {
    "collapsed": true,
    "ExecuteTime": {
     "end_time": "2025-02-07T17:32:55.245460Z",
     "start_time": "2025-02-07T17:32:55.234354Z"
    }
   },
   "source": [
    "import numpy as np\n",
    "from keras.src.utils import to_categorical\n",
    "from keras import Sequential\n",
    "from keras.src.layers import Dense, Input\n",
    "from keras.datasets import mnist"
   ],
   "outputs": [],
   "execution_count": 320
  },
  {
   "metadata": {
    "ExecuteTime": {
     "end_time": "2025-02-07T17:32:55.337987Z",
     "start_time": "2025-02-07T17:32:55.249823Z"
    }
   },
   "cell_type": "code",
   "source": "(train_images, train_labels), (test_images, test_labels) = mnist.load_data()",
   "id": "c9e948bea79a160d",
   "outputs": [],
   "execution_count": 321
  },
  {
   "metadata": {
    "ExecuteTime": {
     "end_time": "2025-02-07T17:32:55.469373Z",
     "start_time": "2025-02-07T17:32:55.348840Z"
    }
   },
   "cell_type": "code",
   "source": [
    "img_train = train_images / 255\n",
    "img_test = test_images / 255"
   ],
   "id": "f1bd98c4d5a53afa",
   "outputs": [],
   "execution_count": 322
  },
  {
   "metadata": {
    "ExecuteTime": {
     "end_time": "2025-02-07T17:32:55.482275Z",
     "start_time": "2025-02-07T17:32:55.479443Z"
    }
   },
   "cell_type": "code",
   "source": [
    "lbl_train = to_categorical(train_labels, 10)\n",
    "lbl_test = to_categorical(test_labels, 10)"
   ],
   "id": "6d72441a4b0c4153",
   "outputs": [],
   "execution_count": 323
  },
  {
   "metadata": {
    "ExecuteTime": {
     "end_time": "2025-02-07T17:32:55.493406Z",
     "start_time": "2025-02-07T17:32:55.491580Z"
    }
   },
   "cell_type": "code",
   "source": [
    "num_samples_train, img_rows, img_columns = img_train.shape\n",
    "img_train = img_train.reshape(num_samples_train, img_rows * img_columns)"
   ],
   "id": "9e5d82ebb71915d6",
   "outputs": [],
   "execution_count": 324
  },
  {
   "metadata": {
    "ExecuteTime": {
     "end_time": "2025-02-07T17:32:55.515114Z",
     "start_time": "2025-02-07T17:32:55.501872Z"
    }
   },
   "cell_type": "code",
   "source": [
    "model = Sequential([\n",
    "    Input(shape=(img_rows * img_columns,)),\n",
    "    Dense(128, activation='relu'),\n",
    "    Dense(10, activation='softmax')\n",
    "])"
   ],
   "id": "d12c2107ccfba185",
   "outputs": [],
   "execution_count": 325
  },
  {
   "metadata": {
    "ExecuteTime": {
     "end_time": "2025-02-07T17:32:55.532Z",
     "start_time": "2025-02-07T17:32:55.526945Z"
    }
   },
   "cell_type": "code",
   "source": [
    "model.compile(optimizer='adam',\n",
    "              loss='categorical_crossentropy')"
   ],
   "id": "445acde321d9c01d",
   "outputs": [],
   "execution_count": 326
  },
  {
   "metadata": {
    "ExecuteTime": {
     "end_time": "2025-02-07T17:33:03.809167Z",
     "start_time": "2025-02-07T17:32:55.543204Z"
    }
   },
   "cell_type": "code",
   "source": "model.fit(img_train, lbl_train, epochs=6, batch_size=32)",
   "id": "95dd6f634342e43c",
   "outputs": [
    {
     "name": "stdout",
     "output_type": "stream",
     "text": [
      "Epoch 1/6\n",
      "\u001B[1m1875/1875\u001B[0m \u001B[32m━━━━━━━━━━━━━━━━━━━━\u001B[0m\u001B[37m\u001B[0m \u001B[1m2s\u001B[0m 721us/step - loss: 0.4359\n",
      "Epoch 2/6\n",
      "\u001B[1m1875/1875\u001B[0m \u001B[32m━━━━━━━━━━━━━━━━━━━━\u001B[0m\u001B[37m\u001B[0m \u001B[1m1s\u001B[0m 698us/step - loss: 0.1183\n",
      "Epoch 3/6\n",
      "\u001B[1m1875/1875\u001B[0m \u001B[32m━━━━━━━━━━━━━━━━━━━━\u001B[0m\u001B[37m\u001B[0m \u001B[1m1s\u001B[0m 681us/step - loss: 0.0787\n",
      "Epoch 4/6\n",
      "\u001B[1m1875/1875\u001B[0m \u001B[32m━━━━━━━━━━━━━━━━━━━━\u001B[0m\u001B[37m\u001B[0m \u001B[1m1s\u001B[0m 680us/step - loss: 0.0598\n",
      "Epoch 5/6\n",
      "\u001B[1m1875/1875\u001B[0m \u001B[32m━━━━━━━━━━━━━━━━━━━━\u001B[0m\u001B[37m\u001B[0m \u001B[1m1s\u001B[0m 678us/step - loss: 0.0434\n",
      "Epoch 6/6\n",
      "\u001B[1m1875/1875\u001B[0m \u001B[32m━━━━━━━━━━━━━━━━━━━━\u001B[0m\u001B[37m\u001B[0m \u001B[1m1s\u001B[0m 676us/step - loss: 0.0336\n"
     ]
    },
    {
     "data": {
      "text/plain": [
       "<keras.src.callbacks.history.History at 0x30bab7b50>"
      ]
     },
     "execution_count": 327,
     "metadata": {},
     "output_type": "execute_result"
    }
   ],
   "execution_count": 327
  },
  {
   "metadata": {
    "ExecuteTime": {
     "end_time": "2025-02-07T17:33:03.873477Z",
     "start_time": "2025-02-07T17:33:03.871434Z"
    }
   },
   "cell_type": "code",
   "source": [
    "num_samples_test, _, _ = img_test.shape\n",
    "img_test = img_test.reshape(num_samples_test, img_rows * img_columns)"
   ],
   "id": "e61e80fe507ecab",
   "outputs": [],
   "execution_count": 328
  },
  {
   "metadata": {
    "ExecuteTime": {
     "end_time": "2025-02-07T17:33:04.074687Z",
     "start_time": "2025-02-07T17:33:03.882492Z"
    }
   },
   "cell_type": "code",
   "source": [
    "evaluation = model.evaluate(img_test, lbl_test)\n",
    "print(\"Test loss:\", evaluation)"
   ],
   "id": "de0473c7c519b26a",
   "outputs": [
    {
     "name": "stdout",
     "output_type": "stream",
     "text": [
      "\u001B[1m313/313\u001B[0m \u001B[32m━━━━━━━━━━━━━━━━━━━━\u001B[0m\u001B[37m\u001B[0m \u001B[1m0s\u001B[0m 382us/step - loss: 0.0870\n",
      "Test loss: 0.07277901470661163\n"
     ]
    }
   ],
   "execution_count": 329
  },
  {
   "metadata": {
    "ExecuteTime": {
     "end_time": "2025-02-07T17:33:04.119460Z",
     "start_time": "2025-02-07T17:33:04.083826Z"
    }
   },
   "cell_type": "code",
   "source": [
    "predictions = model.predict(img_test[:25,:])\n",
    "predictions_idx = np.argmax(predictions, axis=1)\n",
    "print(predictions_idx)\n",
    "print(test_labels[:25])"
   ],
   "id": "dbc16e41da1000b2",
   "outputs": [
    {
     "name": "stdout",
     "output_type": "stream",
     "text": [
      "\u001B[1m1/1\u001B[0m \u001B[32m━━━━━━━━━━━━━━━━━━━━\u001B[0m\u001B[37m\u001B[0m \u001B[1m0s\u001B[0m 18ms/step\n",
      "[7 2 1 0 4 1 4 9 5 9 0 6 9 0 1 5 9 7 3 4 9 6 6 5 4]\n",
      "[7 2 1 0 4 1 4 9 5 9 0 6 9 0 1 5 9 7 3 4 9 6 6 5 4]\n"
     ]
    }
   ],
   "execution_count": 330
  }
 ],
 "metadata": {
  "kernelspec": {
   "display_name": "Python 3",
   "language": "python",
   "name": "python3"
  },
  "language_info": {
   "codemirror_mode": {
    "name": "ipython",
    "version": 2
   },
   "file_extension": ".py",
   "mimetype": "text/x-python",
   "name": "python",
   "nbconvert_exporter": "python",
   "pygments_lexer": "ipython2",
   "version": "2.7.6"
  }
 },
 "nbformat": 4,
 "nbformat_minor": 5
}
