{
 "cells": [
  {
   "cell_type": "code",
   "id": "initial_id",
   "metadata": {
    "collapsed": true,
    "ExecuteTime": {
     "end_time": "2025-02-13T14:09:14.283875Z",
     "start_time": "2025-02-13T14:09:14.271732Z"
    }
   },
   "source": [
    "import numpy as np\n",
    "from keras.src.utils import to_categorical\n",
    "from keras import Sequential\n",
    "from keras.src.layers import Dense, Input\n",
    "from keras.datasets import mnist"
   ],
   "outputs": [],
   "execution_count": 401
  },
  {
   "metadata": {
    "ExecuteTime": {
     "end_time": "2025-02-13T14:09:14.374420Z",
     "start_time": "2025-02-13T14:09:14.289673Z"
    }
   },
   "cell_type": "code",
   "source": "(train_images, train_labels), (test_images, test_labels) = mnist.load_data()",
   "id": "c9e948bea79a160d",
   "outputs": [],
   "execution_count": 402
  },
  {
   "metadata": {
    "ExecuteTime": {
     "end_time": "2025-02-13T14:09:14.483529Z",
     "start_time": "2025-02-13T14:09:14.385343Z"
    }
   },
   "cell_type": "code",
   "source": [
    "img_train = train_images / 255\n",
    "img_test = test_images / 255"
   ],
   "id": "f1bd98c4d5a53afa",
   "outputs": [],
   "execution_count": 403
  },
  {
   "metadata": {
    "ExecuteTime": {
     "end_time": "2025-02-13T14:09:14.496506Z",
     "start_time": "2025-02-13T14:09:14.493462Z"
    }
   },
   "cell_type": "code",
   "source": [
    "lbl_train = to_categorical(train_labels, 10)\n",
    "lbl_test = to_categorical(test_labels, 10)"
   ],
   "id": "6d72441a4b0c4153",
   "outputs": [],
   "execution_count": 404
  },
  {
   "metadata": {
    "ExecuteTime": {
     "end_time": "2025-02-13T14:09:14.507294Z",
     "start_time": "2025-02-13T14:09:14.505698Z"
    }
   },
   "cell_type": "code",
   "source": [
    "num_samples_train, img_rows, img_columns = img_train.shape\n",
    "img_train = img_train.reshape(num_samples_train, img_rows * img_columns)"
   ],
   "id": "9e5d82ebb71915d6",
   "outputs": [],
   "execution_count": 405
  },
  {
   "metadata": {
    "ExecuteTime": {
     "end_time": "2025-02-13T14:09:14.532903Z",
     "start_time": "2025-02-13T14:09:14.515644Z"
    }
   },
   "cell_type": "code",
   "source": [
    "model = Sequential([\n",
    "    Input(shape=(img_rows * img_columns,)),\n",
    "    Dense(128, activation='relu'),\n",
    "    Dense(10, activation='softmax')\n",
    "])"
   ],
   "id": "d12c2107ccfba185",
   "outputs": [],
   "execution_count": 406
  },
  {
   "metadata": {
    "ExecuteTime": {
     "end_time": "2025-02-13T14:09:14.544567Z",
     "start_time": "2025-02-13T14:09:14.540965Z"
    }
   },
   "cell_type": "code",
   "source": [
    "model.compile(optimizer='adam',\n",
    "              loss='categorical_crossentropy')"
   ],
   "id": "445acde321d9c01d",
   "outputs": [],
   "execution_count": 407
  },
  {
   "metadata": {
    "ExecuteTime": {
     "end_time": "2025-02-13T14:09:23.319648Z",
     "start_time": "2025-02-13T14:09:14.554333Z"
    }
   },
   "cell_type": "code",
   "source": "model.fit(img_train, lbl_train, epochs=6, batch_size=32)",
   "id": "95dd6f634342e43c",
   "outputs": [
    {
     "name": "stdout",
     "output_type": "stream",
     "text": [
      "Epoch 1/6\n",
      "\u001B[1m1875/1875\u001B[0m \u001B[32m━━━━━━━━━━━━━━━━━━━━\u001B[0m\u001B[37m\u001B[0m \u001B[1m2s\u001B[0m 732us/step - loss: 0.4221\n",
      "Epoch 2/6\n",
      "\u001B[1m1875/1875\u001B[0m \u001B[32m━━━━━━━━━━━━━━━━━━━━\u001B[0m\u001B[37m\u001B[0m \u001B[1m1s\u001B[0m 716us/step - loss: 0.1224\n",
      "Epoch 3/6\n",
      "\u001B[1m1875/1875\u001B[0m \u001B[32m━━━━━━━━━━━━━━━━━━━━\u001B[0m\u001B[37m\u001B[0m \u001B[1m1s\u001B[0m 720us/step - loss: 0.0772\n",
      "Epoch 4/6\n",
      "\u001B[1m1875/1875\u001B[0m \u001B[32m━━━━━━━━━━━━━━━━━━━━\u001B[0m\u001B[37m\u001B[0m \u001B[1m2s\u001B[0m 803us/step - loss: 0.0594\n",
      "Epoch 5/6\n",
      "\u001B[1m1875/1875\u001B[0m \u001B[32m━━━━━━━━━━━━━━━━━━━━\u001B[0m\u001B[37m\u001B[0m \u001B[1m1s\u001B[0m 704us/step - loss: 0.0406\n",
      "Epoch 6/6\n",
      "\u001B[1m1875/1875\u001B[0m \u001B[32m━━━━━━━━━━━━━━━━━━━━\u001B[0m\u001B[37m\u001B[0m \u001B[1m1s\u001B[0m 717us/step - loss: 0.0316\n"
     ]
    },
    {
     "data": {
      "text/plain": [
       "<keras.src.callbacks.history.History at 0x3235dac40>"
      ]
     },
     "execution_count": 408,
     "metadata": {},
     "output_type": "execute_result"
    }
   ],
   "execution_count": 408
  },
  {
   "metadata": {
    "ExecuteTime": {
     "end_time": "2025-02-13T14:09:23.395556Z",
     "start_time": "2025-02-13T14:09:23.393422Z"
    }
   },
   "cell_type": "code",
   "source": [
    "num_samples_test, _, _ = img_test.shape\n",
    "img_test = img_test.reshape(num_samples_test, img_rows * img_columns)"
   ],
   "id": "e61e80fe507ecab",
   "outputs": [],
   "execution_count": 409
  },
  {
   "metadata": {
    "ExecuteTime": {
     "end_time": "2025-02-13T14:09:23.619751Z",
     "start_time": "2025-02-13T14:09:23.412233Z"
    }
   },
   "cell_type": "code",
   "source": [
    "evaluation = model.evaluate(img_test, lbl_test)\n",
    "print(\"Test loss:\", evaluation)"
   ],
   "id": "de0473c7c519b26a",
   "outputs": [
    {
     "name": "stdout",
     "output_type": "stream",
     "text": [
      "\u001B[1m313/313\u001B[0m \u001B[32m━━━━━━━━━━━━━━━━━━━━\u001B[0m\u001B[37m\u001B[0m \u001B[1m0s\u001B[0m 378us/step - loss: 0.0906\n",
      "Test loss: 0.0749269500374794\n"
     ]
    }
   ],
   "execution_count": 410
  },
  {
   "metadata": {
    "ExecuteTime": {
     "end_time": "2025-02-13T14:09:23.665709Z",
     "start_time": "2025-02-13T14:09:23.629276Z"
    }
   },
   "cell_type": "code",
   "source": [
    "predictions = model.predict(img_test[:25,:])\n",
    "predictions_idx = np.argmax(predictions, axis=1)\n",
    "print(predictions_idx)\n",
    "print(test_labels[:25])"
   ],
   "id": "dbc16e41da1000b2",
   "outputs": [
    {
     "name": "stdout",
     "output_type": "stream",
     "text": [
      "\u001B[1m1/1\u001B[0m \u001B[32m━━━━━━━━━━━━━━━━━━━━\u001B[0m\u001B[37m\u001B[0m \u001B[1m0s\u001B[0m 17ms/step\n",
      "[7 2 1 0 4 1 4 9 6 9 0 6 9 0 1 5 9 7 3 4 9 6 6 5 4]\n",
      "[7 2 1 0 4 1 4 9 5 9 0 6 9 0 1 5 9 7 3 4 9 6 6 5 4]\n"
     ]
    }
   ],
   "execution_count": 411
  }
 ],
 "metadata": {
  "kernelspec": {
   "display_name": "Python 3",
   "language": "python",
   "name": "python3"
  },
  "language_info": {
   "codemirror_mode": {
    "name": "ipython",
    "version": 2
   },
   "file_extension": ".py",
   "mimetype": "text/x-python",
   "name": "python",
   "nbconvert_exporter": "python",
   "pygments_lexer": "ipython2",
   "version": "2.7.6"
  }
 },
 "nbformat": 4,
 "nbformat_minor": 5
}
