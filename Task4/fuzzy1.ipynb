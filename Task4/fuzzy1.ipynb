{
 "cells": [
  {
   "cell_type": "code",
   "id": "initial_id",
   "metadata": {
    "collapsed": true,
    "ExecuteTime": {
     "end_time": "2025-02-07T15:14:53.378402Z",
     "start_time": "2025-02-07T15:13:03.197996Z"
    }
   },
   "source": [
    "from coppeliasim_zmqremoteapi_client import RemoteAPIClient\n",
    "from tank import Tank\n",
    "\n",
    "import numpy as np\n",
    "import skfuzzy as fuzz\n",
    "from skfuzzy import control as ctrl\n",
    "\n",
    "\n",
    "client = RemoteAPIClient()\n",
    "sim = client.require('sim')\n",
    "\n",
    "sim.setStepping(True)\n",
    "\n",
    "my_tank = Tank(one_sensor=True)\n",
    "\n",
    "# Define the fuzzy variables\n",
    "distance = ctrl.Antecedent(np.arange(0, 10, .01), 'distance')\n",
    "velocity = ctrl.Consequent(np.arange(0, 10, .1), 'velocity')\n",
    "\n",
    "# Define membership functions for distance\n",
    "distance['very_close'] = fuzz.trimf(distance.universe, [0, 0, 0.4])\n",
    "distance['close'] = fuzz.trimf(distance.universe, [0.4, 1, 1])\n",
    "distance['medium'] = fuzz.trimf(distance.universe, [1, 3, 5])\n",
    "distance['far'] = fuzz.trimf(distance.universe, [3, 5, 10])\n",
    "\n",
    "# Define membership functions for velocity\n",
    "velocity['stop'] = fuzz.trimf(velocity.universe, [0, 0, 0])\n",
    "velocity['slow'] = fuzz.trimf(velocity.universe, [0, 1, 3])\n",
    "velocity['moderate'] = fuzz.trimf(velocity.universe, [1, 3, 5])\n",
    "velocity['fast'] = fuzz.trimf(velocity.universe, [3, 5, 10])\n",
    "\n",
    "# Define the fuzzy rules\n",
    "rule1 = ctrl.Rule(distance['very_close'], velocity['stop'])\n",
    "rule2 = ctrl.Rule(distance['close'], velocity['slow'])\n",
    "rule3 = ctrl.Rule(distance['medium'], velocity['moderate'])\n",
    "rule4 = ctrl.Rule(distance['far'], velocity['fast'])\n",
    "\n",
    "# Create a control system and simulation\n",
    "velocity_ctrl = ctrl.ControlSystem([rule1, rule2, rule3, rule4])\n",
    "velocity_sim = ctrl.ControlSystemSimulation(velocity_ctrl)\n",
    "\n",
    "sim.startSimulation()\n",
    "while (t := sim.getSimulationTime()) < 30:\n",
    "    dp = my_tank.read_proximity_sensors()['N']['detectedPoint']\n",
    "\n",
    "    # Simulate the system\n",
    "    velocity_sim.input['distance'] = float(dp)\n",
    "    velocity_sim.compute()\n",
    "    vel = velocity_sim.output['velocity']\n",
    "\n",
    "\n",
    "    my_tank.forward(vel)\n",
    "    sim.step()\n",
    "\n",
    "sim.stopSimulation()"
   ],
   "outputs": [
    {
     "ename": "KeyboardInterrupt",
     "evalue": "",
     "output_type": "error",
     "traceback": [
      "\u001B[0;31m---------------------------------------------------------------------------\u001B[0m",
      "\u001B[0;31mKeyboardInterrupt\u001B[0m                         Traceback (most recent call last)",
      "Cell \u001B[0;32mIn[1], line 10\u001B[0m\n\u001B[1;32m      6\u001B[0m \u001B[38;5;28;01mfrom\u001B[39;00m\u001B[38;5;250m \u001B[39m\u001B[38;5;21;01mskfuzzy\u001B[39;00m\u001B[38;5;250m \u001B[39m\u001B[38;5;28;01mimport\u001B[39;00m control \u001B[38;5;28;01mas\u001B[39;00m ctrl\n\u001B[1;32m      9\u001B[0m client \u001B[38;5;241m=\u001B[39m RemoteAPIClient()\n\u001B[0;32m---> 10\u001B[0m sim \u001B[38;5;241m=\u001B[39m \u001B[43mclient\u001B[49m\u001B[38;5;241;43m.\u001B[39;49m\u001B[43mrequire\u001B[49m\u001B[43m(\u001B[49m\u001B[38;5;124;43m'\u001B[39;49m\u001B[38;5;124;43msim\u001B[39;49m\u001B[38;5;124;43m'\u001B[39;49m\u001B[43m)\u001B[49m\n\u001B[1;32m     12\u001B[0m sim\u001B[38;5;241m.\u001B[39msetStepping(\u001B[38;5;28;01mTrue\u001B[39;00m)\n\u001B[1;32m     14\u001B[0m my_tank \u001B[38;5;241m=\u001B[39m Tank(one_sensor\u001B[38;5;241m=\u001B[39m\u001B[38;5;28;01mTrue\u001B[39;00m)\n",
      "File \u001B[0;32m~/PycharmProjects/AILabs/.venv/lib/python3.9/site-packages/coppeliasim_zmqremoteapi_client/__init__.py:202\u001B[0m, in \u001B[0;36mRemoteAPIClient.require\u001B[0;34m(self, name)\u001B[0m\n\u001B[1;32m    200\u001B[0m     ret \u001B[38;5;241m=\u001B[39m \u001B[38;5;28mself\u001B[39m\u001B[38;5;241m.\u001B[39mrequiredItems[name]\n\u001B[1;32m    201\u001B[0m \u001B[38;5;28;01melse\u001B[39;00m:\n\u001B[0;32m--> 202\u001B[0m     \u001B[38;5;28;43mself\u001B[39;49m\u001B[38;5;241;43m.\u001B[39;49m\u001B[43mcall\u001B[49m\u001B[43m(\u001B[49m\u001B[38;5;124;43m'\u001B[39;49m\u001B[38;5;124;43mzmqRemoteApi.require\u001B[39;49m\u001B[38;5;124;43m'\u001B[39;49m\u001B[43m,\u001B[49m\u001B[43m \u001B[49m\u001B[43m[\u001B[49m\u001B[43mname\u001B[49m\u001B[43m]\u001B[49m\u001B[43m)\u001B[49m\n\u001B[1;32m    203\u001B[0m     ret \u001B[38;5;241m=\u001B[39m \u001B[38;5;28mself\u001B[39m\u001B[38;5;241m.\u001B[39mgetObject(name)\n\u001B[1;32m    204\u001B[0m \u001B[38;5;28;01mreturn\u001B[39;00m ret\n",
      "File \u001B[0;32m~/PycharmProjects/AILabs/.venv/lib/python3.9/site-packages/coppeliasim_zmqremoteapi_client/__init__.py:137\u001B[0m, in \u001B[0;36mRemoteAPIClient.call\u001B[0;34m(self, func, args)\u001B[0m\n\u001B[1;32m    134\u001B[0m \u001B[38;5;28;01mdef\u001B[39;00m\u001B[38;5;250m \u001B[39m\u001B[38;5;21mcall\u001B[39m(\u001B[38;5;28mself\u001B[39m, func, args):\n\u001B[1;32m    135\u001B[0m     \u001B[38;5;66;03m# Call function with specified arguments. Is reentrant\u001B[39;00m\n\u001B[1;32m    136\u001B[0m     \u001B[38;5;28mself\u001B[39m\u001B[38;5;241m.\u001B[39m_send({\u001B[38;5;124m'\u001B[39m\u001B[38;5;124mfunc\u001B[39m\u001B[38;5;124m'\u001B[39m: func, \u001B[38;5;124m'\u001B[39m\u001B[38;5;124margs\u001B[39m\u001B[38;5;124m'\u001B[39m: args})\n\u001B[0;32m--> 137\u001B[0m     reply \u001B[38;5;241m=\u001B[39m \u001B[38;5;28;43mself\u001B[39;49m\u001B[38;5;241;43m.\u001B[39;49m\u001B[43m_recv\u001B[49m\u001B[43m(\u001B[49m\u001B[43m)\u001B[49m\n\u001B[1;32m    138\u001B[0m     \u001B[38;5;28;01mwhile\u001B[39;00m \u001B[38;5;28misinstance\u001B[39m(reply, \u001B[38;5;28mdict\u001B[39m) \u001B[38;5;129;01mand\u001B[39;00m \u001B[38;5;124m'\u001B[39m\u001B[38;5;124mfunc\u001B[39m\u001B[38;5;124m'\u001B[39m \u001B[38;5;129;01min\u001B[39;00m reply:\n\u001B[1;32m    139\u001B[0m         \u001B[38;5;66;03m# We have a callback or a wait/repeat:\u001B[39;00m\n\u001B[1;32m    140\u001B[0m         \u001B[38;5;28;01mif\u001B[39;00m reply[\u001B[38;5;124m'\u001B[39m\u001B[38;5;124mfunc\u001B[39m\u001B[38;5;124m'\u001B[39m] \u001B[38;5;241m==\u001B[39m \u001B[38;5;124m'\u001B[39m\u001B[38;5;124m_*wait*_\u001B[39m\u001B[38;5;124m'\u001B[39m:\n",
      "File \u001B[0;32m~/PycharmProjects/AILabs/.venv/lib/python3.9/site-packages/coppeliasim_zmqremoteapi_client/__init__.py:119\u001B[0m, in \u001B[0;36mRemoteAPIClient._recv\u001B[0;34m(self)\u001B[0m\n\u001B[1;32m    118\u001B[0m \u001B[38;5;28;01mdef\u001B[39;00m\u001B[38;5;250m \u001B[39m\u001B[38;5;21m_recv\u001B[39m(\u001B[38;5;28mself\u001B[39m):\n\u001B[0;32m--> 119\u001B[0m     rawResp \u001B[38;5;241m=\u001B[39m \u001B[38;5;28;43mself\u001B[39;49m\u001B[38;5;241;43m.\u001B[39;49m\u001B[43msocket\u001B[49m\u001B[38;5;241;43m.\u001B[39;49m\u001B[43mrecv\u001B[49m\u001B[43m(\u001B[49m\u001B[43m)\u001B[49m\n\u001B[1;32m    120\u001B[0m     \u001B[38;5;28;01mif\u001B[39;00m \u001B[38;5;28mself\u001B[39m\u001B[38;5;241m.\u001B[39mverbose \u001B[38;5;241m>\u001B[39m \u001B[38;5;241m1\u001B[39m:\n\u001B[1;32m    121\u001B[0m         \u001B[38;5;28mprint\u001B[39m(\u001B[38;5;124mf\u001B[39m\u001B[38;5;124m'\u001B[39m\u001B[38;5;124mReceived raw len=\u001B[39m\u001B[38;5;132;01m{\u001B[39;00m\u001B[38;5;28mlen\u001B[39m(rawResp)\u001B[38;5;132;01m}\u001B[39;00m\u001B[38;5;124m, base64=\u001B[39m\u001B[38;5;132;01m{\u001B[39;00mb64(rawResp)\u001B[38;5;132;01m}\u001B[39;00m\u001B[38;5;124m'\u001B[39m)\n",
      "File \u001B[0;32m_zmq.py:1156\u001B[0m, in \u001B[0;36mzmq.backend.cython._zmq.Socket.recv\u001B[0;34m()\u001B[0m\n",
      "File \u001B[0;32m_zmq.py:1191\u001B[0m, in \u001B[0;36mzmq.backend.cython._zmq.Socket.recv\u001B[0;34m()\u001B[0m\n",
      "File \u001B[0;32m_zmq.py:1278\u001B[0m, in \u001B[0;36mzmq.backend.cython._zmq._recv_copy\u001B[0;34m()\u001B[0m\n",
      "File \u001B[0;32m_zmq.py:160\u001B[0m, in \u001B[0;36mzmq.backend.cython._zmq._check_rc\u001B[0;34m()\u001B[0m\n",
      "\u001B[0;31mKeyboardInterrupt\u001B[0m: "
     ]
    }
   ],
   "execution_count": 1
  }
 ],
 "metadata": {
  "kernelspec": {
   "display_name": "Python 3",
   "language": "python",
   "name": "python3"
  },
  "language_info": {
   "codemirror_mode": {
    "name": "ipython",
    "version": 2
   },
   "file_extension": ".py",
   "mimetype": "text/x-python",
   "name": "python",
   "nbconvert_exporter": "python",
   "pygments_lexer": "ipython2",
   "version": "2.7.6"
  }
 },
 "nbformat": 4,
 "nbformat_minor": 5
}
